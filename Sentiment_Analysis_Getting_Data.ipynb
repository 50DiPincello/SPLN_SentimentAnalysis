{
  "cells": [
    {
      "cell_type": "code",
      "execution_count": 1,
      "metadata": {
        "colab": {
          "base_uri": "https://localhost:8080/"
        },
        "id": "GDiAjnyycIP3",
        "outputId": "71d85fcb-66c4-4598-c728-002425524739"
      },
      "outputs": [
        {
          "name": "stdout",
          "output_type": "stream",
          "text": [
            "Collecting google_play_scraper\n",
            "  Downloading google-play-scraper-1.1.0.tar.gz (52 kB)\n",
            "     -------------------------------------- 53.0/53.0 kB 678.0 kB/s eta 0:00:00\n",
            "  Preparing metadata (setup.py): started\n",
            "  Preparing metadata (setup.py): finished with status 'done'\n",
            "Building wheels for collected packages: google_play_scraper\n",
            "  Building wheel for google_play_scraper (setup.py): started\n",
            "  Building wheel for google_play_scraper (setup.py): finished with status 'done'\n",
            "  Created wheel for google_play_scraper: filename=google_play_scraper-1.1.0-py3-none-any.whl size=24569 sha256=72a527517c8bbcfcf440c04815bc77ca0e431329ca23864b1b9a335c5f28ec18\n",
            "  Stored in directory: c:\\users\\guilherme martins\\appdata\\local\\pip\\cache\\wheels\\d2\\da\\6c\\feea3a8b8e10bb2669ef8d02c7575ac1df5a0413b9229d97f4\n",
            "Successfully built google_play_scraper\n",
            "Installing collected packages: google_play_scraper\n",
            "Successfully installed google_play_scraper-1.1.0\n"
          ]
        }
      ],
      "source": [
        "#Install Google play scraper: https://github.com/JoMingyu/google-play-scraper\n",
        "!pip install google_play_scraper"
      ]
    },
    {
      "cell_type": "code",
      "execution_count": 2,
      "metadata": {
        "id": "gxcCFFUVcd7B"
      },
      "outputs": [],
      "source": [
        "import json\n",
        "import pandas as pd\n",
        "from tqdm import tqdm\n",
        "\n",
        "import seaborn as sns\n",
        "import matplotlib.pyplot as plt\n",
        "\n",
        "from pygments import highlight\n",
        "from pygments.lexers import JsonLexer\n",
        "from pygments.formatters import TerminalFormatter\n",
        "\n",
        "from google_play_scraper import Sort, reviews, app\n",
        "\n",
        "%matplotlib inline\n",
        "%config InlineBackend.figure_format='retina'\n",
        "\n",
        "sns.set(style='whitegrid', palette='muted', font_scale=1.2)"
      ]
    },
    {
      "cell_type": "markdown",
      "metadata": {
        "id": "PrWYrbz-dB_s"
      },
      "source": [
        "#### Top 10 Food and Drinks Apps in Portugal\n",
        "\n",
        "1. Burger King - Portugal ⇒ com.bk.pt\n",
        "\n",
        "2. Uber Eats: Entrega de comida ⇒ com.ubercab.eats\n",
        "\n",
        "3. McDonald's ⇒ com.mcdonalds.mobileapp\n",
        "\n",
        "4. Too Good To Go ⇒ com.app.tgtg\n",
        "\n",
        "5. TheFork - Restaurantes ⇒ com.lafourchette.lafourchette\n",
        "\n",
        "6. Bolt Food ⇒ com.bolt.deliveryclient\n",
        "\n",
        "7. Zomato Portugal ⇒ com.outdarelab.zomato\n",
        "\n",
        "8. Moulinex, receitas e mais... ⇒ com.groupeseb.moulinex.food\n",
        "\n",
        "9. H3 ⇒ pt.yunit.mobile.android.h3\n",
        "\n",
        "10. Telepizza Refeições ao Domicílio ⇒ com.telepizza\n",
        "\n",
        "Source: https://www.mobileaction.co/"
      ]
    },
    {
      "cell_type": "code",
      "execution_count": 3,
      "metadata": {
        "id": "LvNZCWDodDBx"
      },
      "outputs": [],
      "source": [
        "apps_ids = ['com.bk.pt', 'com.ubercab.eats',\n",
        "\n",
        "'com.mcdonalds.mobileapp', 'com.app.tgtg',\n",
        "\n",
        "'com.lafourchette.lafourchette',\n",
        "\n",
        "'com.bolt.deliveryclient', 'com.outdarelab.zomato',\n",
        "\n",
        "'com.groupeseb.moulinex.food', 'pt.yunit.mobile.android.h3',\n",
        "\n",
        "'com.telepizza']"
      ]
    },
    {
      "cell_type": "markdown",
      "metadata": {
        "id": "UgtTJU5yxA6w"
      },
      "source": [
        "Scraping data for each app"
      ]
    },
    {
      "cell_type": "code",
      "execution_count": 4,
      "metadata": {
        "colab": {
          "base_uri": "https://localhost:8080/"
        },
        "id": "iotg8OF2xBhj",
        "outputId": "47acc10e-e379-4572-9018-a65296dab872"
      },
      "outputs": [
        {
          "name": "stderr",
          "output_type": "stream",
          "text": [
            "100%|██████████| 10/10 [00:06<00:00,  1.54it/s]\n"
          ]
        }
      ],
      "source": [
        "app_infos = []\n",
        "\n",
        "for ap in tqdm(apps_ids):\n",
        "    info = app(ap, lang='en', country='us')\n",
        "    del info['comments']\n",
        "    app_infos.append(info)"
      ]
    },
    {
      "cell_type": "code",
      "execution_count": 5,
      "metadata": {
        "colab": {
          "base_uri": "https://localhost:8080/",
          "height": 699
        },
        "id": "GWv9CbvHxKAj",
        "outputId": "7efc3111-2e1e-4b41-ce44-6ab508571857"
      },
      "outputs": [
        {
          "data": {
            "text/html": [
              "<div>\n",
              "<style scoped>\n",
              "    .dataframe tbody tr th:only-of-type {\n",
              "        vertical-align: middle;\n",
              "    }\n",
              "\n",
              "    .dataframe tbody tr th {\n",
              "        vertical-align: top;\n",
              "    }\n",
              "\n",
              "    .dataframe thead th {\n",
              "        text-align: right;\n",
              "    }\n",
              "</style>\n",
              "<table border=\"1\" class=\"dataframe\">\n",
              "  <thead>\n",
              "    <tr style=\"text-align: right;\">\n",
              "      <th></th>\n",
              "      <th>title</th>\n",
              "      <th>description</th>\n",
              "      <th>descriptionHTML</th>\n",
              "      <th>summary</th>\n",
              "      <th>installs</th>\n",
              "      <th>minInstalls</th>\n",
              "      <th>score</th>\n",
              "      <th>ratings</th>\n",
              "      <th>reviews</th>\n",
              "      <th>histogram</th>\n",
              "      <th>...</th>\n",
              "      <th>contentRatingDescription</th>\n",
              "      <th>adSupported</th>\n",
              "      <th>containsAds</th>\n",
              "      <th>released</th>\n",
              "      <th>updated</th>\n",
              "      <th>version</th>\n",
              "      <th>recentChanges</th>\n",
              "      <th>recentChangesHTML</th>\n",
              "      <th>appId</th>\n",
              "      <th>url</th>\n",
              "    </tr>\n",
              "  </thead>\n",
              "  <tbody>\n",
              "    <tr>\n",
              "      <th>0</th>\n",
              "      <td>Burger King - Portugal</td>\n",
              "      <td>Join the exclusive savings with the official B...</td>\n",
              "      <td>Join the exclusive savings with the official B...</td>\n",
              "      <td>Coupons for in-store use only</td>\n",
              "      <td>500,000+</td>\n",
              "      <td>500000</td>\n",
              "      <td>0.000000</td>\n",
              "      <td>0</td>\n",
              "      <td>0</td>\n",
              "      <td>[0, 0, 0, 0, 0]</td>\n",
              "      <td>...</td>\n",
              "      <td>None</td>\n",
              "      <td>False</td>\n",
              "      <td>False</td>\n",
              "      <td>Mar 20, 2018</td>\n",
              "      <td>1653920927</td>\n",
              "      <td>4.4.9</td>\n",
              "      <td>We have implemented improvements in the Paymen...</td>\n",
              "      <td>We have implemented improvements in the Paymen...</td>\n",
              "      <td>com.bk.pt</td>\n",
              "      <td>https://play.google.com/store/apps/details?id=...</td>\n",
              "    </tr>\n",
              "    <tr>\n",
              "      <th>1</th>\n",
              "      <td>Uber Eats: Food Delivery</td>\n",
              "      <td>Get food delivery to your doorstep from thousa...</td>\n",
              "      <td>Get food delivery to your doorstep from thousa...</td>\n",
              "      <td>Food &amp; Grocery Delivery App. Order Pizza, Sush...</td>\n",
              "      <td>100,000,000+</td>\n",
              "      <td>100000000</td>\n",
              "      <td>4.440442</td>\n",
              "      <td>4608237</td>\n",
              "      <td>256148</td>\n",
              "      <td>[385078, 57465, 139834, 586162, 3439676]</td>\n",
              "      <td>...</td>\n",
              "      <td>None</td>\n",
              "      <td>True</td>\n",
              "      <td>True</td>\n",
              "      <td>Feb 29, 2016</td>\n",
              "      <td>1654531465</td>\n",
              "      <td>6.115.10000</td>\n",
              "      <td>We update the Uber Eats app as often as possib...</td>\n",
              "      <td>We update the Uber Eats app as often as possib...</td>\n",
              "      <td>com.ubercab.eats</td>\n",
              "      <td>https://play.google.com/store/apps/details?id=...</td>\n",
              "    </tr>\n",
              "    <tr>\n",
              "      <th>2</th>\n",
              "      <td>McDonald's</td>\n",
              "      <td>Download the McDonald's™ App for unique offers...</td>\n",
              "      <td>Download the McDonald&amp;#39;s™ App for unique of...</td>\n",
              "      <td>Download the McDonald’s App to have all the of...</td>\n",
              "      <td>50,000,000+</td>\n",
              "      <td>50000000</td>\n",
              "      <td>3.661938</td>\n",
              "      <td>468754</td>\n",
              "      <td>1602</td>\n",
              "      <td>[124046, 17657, 20988, 35425, 270302]</td>\n",
              "      <td>...</td>\n",
              "      <td>None</td>\n",
              "      <td>True</td>\n",
              "      <td>True</td>\n",
              "      <td>Feb 26, 2018</td>\n",
              "      <td>1654678119</td>\n",
              "      <td>2.42.0</td>\n",
              "      <td>None</td>\n",
              "      <td>None</td>\n",
              "      <td>com.mcdonalds.mobileapp</td>\n",
              "      <td>https://play.google.com/store/apps/details?id=...</td>\n",
              "    </tr>\n",
              "    <tr>\n",
              "      <th>3</th>\n",
              "      <td>Too Good To Go: End Food Waste</td>\n",
              "      <td>Join millions of food waste warriors by downlo...</td>\n",
              "      <td>Join millions of food waste warriors by downlo...</td>\n",
              "      <td>Eat delicious food for next to nothing and fig...</td>\n",
              "      <td>10,000,000+</td>\n",
              "      <td>10000000</td>\n",
              "      <td>4.782464</td>\n",
              "      <td>874466</td>\n",
              "      <td>1705</td>\n",
              "      <td>[30052, 1865, 11588, 40757, 790004]</td>\n",
              "      <td>...</td>\n",
              "      <td>None</td>\n",
              "      <td>False</td>\n",
              "      <td>False</td>\n",
              "      <td>Jan 14, 2016</td>\n",
              "      <td>1653322017</td>\n",
              "      <td>22.5.10</td>\n",
              "      <td>Thanks for helping fight food waste with us! T...</td>\n",
              "      <td>Thanks for helping fight food waste with us! T...</td>\n",
              "      <td>com.app.tgtg</td>\n",
              "      <td>https://play.google.com/store/apps/details?id=...</td>\n",
              "    </tr>\n",
              "    <tr>\n",
              "      <th>4</th>\n",
              "      <td>TheFork - Restaurant bookings</td>\n",
              "      <td>&lt;b&gt;10€ discount on your next meal!&lt;/b&gt;\\r\\nMake...</td>\n",
              "      <td>&lt;b&gt;10€ discount on your next meal!&lt;/b&gt;&lt;br&gt;Make...</td>\n",
              "      <td>Download TheFork to book your next table with ...</td>\n",
              "      <td>10,000,000+</td>\n",
              "      <td>10000000</td>\n",
              "      <td>4.883495</td>\n",
              "      <td>210281</td>\n",
              "      <td>208</td>\n",
              "      <td>[0, 0, 3934, 16326, 189823]</td>\n",
              "      <td>...</td>\n",
              "      <td>None</td>\n",
              "      <td>False</td>\n",
              "      <td>False</td>\n",
              "      <td>Nov 3, 2011</td>\n",
              "      <td>1653408138</td>\n",
              "      <td>20.14.1</td>\n",
              "      <td>We constantly update TheFork app to provide yo...</td>\n",
              "      <td>We constantly update TheFork app to provide yo...</td>\n",
              "      <td>com.lafourchette.lafourchette</td>\n",
              "      <td>https://play.google.com/store/apps/details?id=...</td>\n",
              "    </tr>\n",
              "  </tbody>\n",
              "</table>\n",
              "<p>5 rows × 43 columns</p>\n",
              "</div>"
            ],
            "text/plain": [
              "                            title  \\\n",
              "0          Burger King - Portugal   \n",
              "1        Uber Eats: Food Delivery   \n",
              "2                      McDonald's   \n",
              "3  Too Good To Go: End Food Waste   \n",
              "4   TheFork - Restaurant bookings   \n",
              "\n",
              "                                         description  \\\n",
              "0  Join the exclusive savings with the official B...   \n",
              "1  Get food delivery to your doorstep from thousa...   \n",
              "2  Download the McDonald's™ App for unique offers...   \n",
              "3  Join millions of food waste warriors by downlo...   \n",
              "4  <b>10€ discount on your next meal!</b>\\r\\nMake...   \n",
              "\n",
              "                                     descriptionHTML  \\\n",
              "0  Join the exclusive savings with the official B...   \n",
              "1  Get food delivery to your doorstep from thousa...   \n",
              "2  Download the McDonald&#39;s™ App for unique of...   \n",
              "3  Join millions of food waste warriors by downlo...   \n",
              "4  <b>10€ discount on your next meal!</b><br>Make...   \n",
              "\n",
              "                                             summary      installs  \\\n",
              "0                      Coupons for in-store use only      500,000+   \n",
              "1  Food & Grocery Delivery App. Order Pizza, Sush...  100,000,000+   \n",
              "2  Download the McDonald’s App to have all the of...   50,000,000+   \n",
              "3  Eat delicious food for next to nothing and fig...   10,000,000+   \n",
              "4  Download TheFork to book your next table with ...   10,000,000+   \n",
              "\n",
              "   minInstalls     score  ratings  reviews  \\\n",
              "0       500000  0.000000        0        0   \n",
              "1    100000000  4.440442  4608237   256148   \n",
              "2     50000000  3.661938   468754     1602   \n",
              "3     10000000  4.782464   874466     1705   \n",
              "4     10000000  4.883495   210281      208   \n",
              "\n",
              "                                  histogram  ...  contentRatingDescription  \\\n",
              "0                           [0, 0, 0, 0, 0]  ...                      None   \n",
              "1  [385078, 57465, 139834, 586162, 3439676]  ...                      None   \n",
              "2     [124046, 17657, 20988, 35425, 270302]  ...                      None   \n",
              "3       [30052, 1865, 11588, 40757, 790004]  ...                      None   \n",
              "4               [0, 0, 3934, 16326, 189823]  ...                      None   \n",
              "\n",
              "   adSupported containsAds      released     updated      version  \\\n",
              "0        False       False  Mar 20, 2018  1653920927        4.4.9   \n",
              "1         True        True  Feb 29, 2016  1654531465  6.115.10000   \n",
              "2         True        True  Feb 26, 2018  1654678119       2.42.0   \n",
              "3        False       False  Jan 14, 2016  1653322017      22.5.10   \n",
              "4        False       False   Nov 3, 2011  1653408138      20.14.1   \n",
              "\n",
              "                                       recentChanges  \\\n",
              "0  We have implemented improvements in the Paymen...   \n",
              "1  We update the Uber Eats app as often as possib...   \n",
              "2                                               None   \n",
              "3  Thanks for helping fight food waste with us! T...   \n",
              "4  We constantly update TheFork app to provide yo...   \n",
              "\n",
              "                                   recentChangesHTML  \\\n",
              "0  We have implemented improvements in the Paymen...   \n",
              "1  We update the Uber Eats app as often as possib...   \n",
              "2                                               None   \n",
              "3  Thanks for helping fight food waste with us! T...   \n",
              "4  We constantly update TheFork app to provide yo...   \n",
              "\n",
              "                           appId  \\\n",
              "0                      com.bk.pt   \n",
              "1               com.ubercab.eats   \n",
              "2        com.mcdonalds.mobileapp   \n",
              "3                   com.app.tgtg   \n",
              "4  com.lafourchette.lafourchette   \n",
              "\n",
              "                                                 url  \n",
              "0  https://play.google.com/store/apps/details?id=...  \n",
              "1  https://play.google.com/store/apps/details?id=...  \n",
              "2  https://play.google.com/store/apps/details?id=...  \n",
              "3  https://play.google.com/store/apps/details?id=...  \n",
              "4  https://play.google.com/store/apps/details?id=...  \n",
              "\n",
              "[5 rows x 43 columns]"
            ]
          },
          "execution_count": 5,
          "metadata": {},
          "output_type": "execute_result"
        }
      ],
      "source": [
        "app_infos_df = pd.DataFrame(app_infos)\n",
        "app_infos_df.head()"
      ]
    },
    {
      "cell_type": "markdown",
      "metadata": {
        "id": "FYSg2O9Px65q"
      },
      "source": [
        "#### Scraping App Reviews\n",
        "\n",
        "We want:\n",
        "* Balanced dataset — roughly the same number of reviews for each score (1–5)\n",
        "* A representative sample of the reviews for each app\n",
        "\n",
        "\n",
        "We can satisfy the first requirement by using the scraping package option to filter the review score. For the second, we’ll sort the reviews by their helpfulness, which are the reviews that Google Play thinks are most important."
      ]
    },
    {
      "cell_type": "code",
      "execution_count": 6,
      "metadata": {
        "colab": {
          "base_uri": "https://localhost:8080/"
        },
        "id": "-VPXtqQQx7eS",
        "outputId": "37194ef4-2377-4b7b-dbef-bef068ead0d3"
      },
      "outputs": [
        {
          "name": "stderr",
          "output_type": "stream",
          "text": [
            "100%|██████████| 10/10 [00:44<00:00,  4.43s/it]\n"
          ]
        }
      ],
      "source": [
        "app_reviews = []\n",
        "\n",
        "for ap in tqdm(apps_ids):\n",
        "    for score in list(range(1, 6)):\n",
        "        for sort_order in [Sort.MOST_RELEVANT, Sort.NEWEST]:\n",
        "            rvs, _ = reviews(\n",
        "                ap,\n",
        "                lang='pt',\n",
        "                country='br',\n",
        "                sort=sort_order,\n",
        "                count= 200 if score == 3 else 100,\n",
        "                filter_score_with=score\n",
        "            )\n",
        "            for r in rvs:\n",
        "                r['sortOrder'] = 'most_relevant' if sort_order == Sort.MOST_RELEVANT else 'newest'\n",
        "                r['appId'] = ap\n",
        "            app_reviews.extend(rvs)"
      ]
    },
    {
      "cell_type": "code",
      "execution_count": null,
      "metadata": {
        "colab": {
          "base_uri": "https://localhost:8080/"
        },
        "id": "xvxgSV00yH2z",
        "outputId": "3b40b81a-ead4-4c26-d6e1-b1d91b588e55"
      },
      "outputs": [
        {
          "data": {
            "text/plain": [
              "7092"
            ]
          },
          "execution_count": 7,
          "metadata": {},
          "output_type": "execute_result"
        }
      ],
      "source": [
        "len(app_reviews)"
      ]
    },
    {
      "cell_type": "markdown",
      "metadata": {
        "id": "LlYdyhdtyP2A"
      },
      "source": [
        "Saving reviews in a CSV file"
      ]
    },
    {
      "cell_type": "code",
      "execution_count": 7,
      "metadata": {
        "colab": {
          "base_uri": "https://localhost:8080/",
          "height": 669
        },
        "id": "2R_9qN-ayQ34",
        "outputId": "aaecda61-7716-4092-8f64-f1320cb7c2dc"
      },
      "outputs": [
        {
          "data": {
            "text/html": [
              "<div>\n",
              "<style scoped>\n",
              "    .dataframe tbody tr th:only-of-type {\n",
              "        vertical-align: middle;\n",
              "    }\n",
              "\n",
              "    .dataframe tbody tr th {\n",
              "        vertical-align: top;\n",
              "    }\n",
              "\n",
              "    .dataframe thead th {\n",
              "        text-align: right;\n",
              "    }\n",
              "</style>\n",
              "<table border=\"1\" class=\"dataframe\">\n",
              "  <thead>\n",
              "    <tr style=\"text-align: right;\">\n",
              "      <th></th>\n",
              "      <th>reviewId</th>\n",
              "      <th>userName</th>\n",
              "      <th>userImage</th>\n",
              "      <th>content</th>\n",
              "      <th>score</th>\n",
              "      <th>thumbsUpCount</th>\n",
              "      <th>reviewCreatedVersion</th>\n",
              "      <th>at</th>\n",
              "      <th>replyContent</th>\n",
              "      <th>repliedAt</th>\n",
              "      <th>sortOrder</th>\n",
              "      <th>appId</th>\n",
              "    </tr>\n",
              "  </thead>\n",
              "  <tbody>\n",
              "    <tr>\n",
              "      <th>0</th>\n",
              "      <td>gp:AOqpTOH4R6ibJGyIgalQ8TmRepFkD5Uc7VEmSlzIqgK...</td>\n",
              "      <td>Vitor Ferraz</td>\n",
              "      <td>https://play-lh.googleusercontent.com/a-/AOh14...</td>\n",
              "      <td>Após bastante tempo passado decidi voltar a pe...</td>\n",
              "      <td>1</td>\n",
              "      <td>33</td>\n",
              "      <td>4.4.7</td>\n",
              "      <td>2022-05-06 13:21:44</td>\n",
              "      <td>Lamentamos o incidente. Iremos reportá-lo e co...</td>\n",
              "      <td>2019-10-10 15:20:20</td>\n",
              "      <td>most_relevant</td>\n",
              "      <td>com.bk.pt</td>\n",
              "    </tr>\n",
              "    <tr>\n",
              "      <th>1</th>\n",
              "      <td>gp:AOqpTOF9leM2mcXtbajknpJf-pNJLM7_wbGUOHJ1q2w...</td>\n",
              "      <td>Eduardo Oliveira</td>\n",
              "      <td>https://play-lh.googleusercontent.com/a/AATXAJ...</td>\n",
              "      <td>Esta aplicação é uma miseria. De todas as veze...</td>\n",
              "      <td>1</td>\n",
              "      <td>28</td>\n",
              "      <td>4.4.4</td>\n",
              "      <td>2022-04-03 21:50:26</td>\n",
              "      <td>None</td>\n",
              "      <td>NaT</td>\n",
              "      <td>most_relevant</td>\n",
              "      <td>com.bk.pt</td>\n",
              "    </tr>\n",
              "    <tr>\n",
              "      <th>2</th>\n",
              "      <td>gp:AOqpTOFW2-55_1RbTThklXm3uewFd8OT9Cu2r1xKGRP...</td>\n",
              "      <td>Diogo Mendes DM116</td>\n",
              "      <td>https://play-lh.googleusercontent.com/a-/AOh14...</td>\n",
              "      <td>Ja teve 5estrelas. Agora esta mesmo fraca.daqu...</td>\n",
              "      <td>1</td>\n",
              "      <td>1</td>\n",
              "      <td>4.4.9</td>\n",
              "      <td>2022-06-06 12:31:04</td>\n",
              "      <td>None</td>\n",
              "      <td>NaT</td>\n",
              "      <td>most_relevant</td>\n",
              "      <td>com.bk.pt</td>\n",
              "    </tr>\n",
              "    <tr>\n",
              "      <th>3</th>\n",
              "      <td>gp:AOqpTOGRf4dy38flRss1lhoggSy6qTaSHaHK2wOhz_R...</td>\n",
              "      <td>Ricardo Lemos</td>\n",
              "      <td>https://play-lh.googleusercontent.com/a/AATXAJ...</td>\n",
              "      <td>O burguer King mais proximo de minha casa fica...</td>\n",
              "      <td>1</td>\n",
              "      <td>24</td>\n",
              "      <td>4.4.5</td>\n",
              "      <td>2022-04-07 15:50:14</td>\n",
              "      <td>None</td>\n",
              "      <td>NaT</td>\n",
              "      <td>most_relevant</td>\n",
              "      <td>com.bk.pt</td>\n",
              "    </tr>\n",
              "    <tr>\n",
              "      <th>4</th>\n",
              "      <td>gp:AOqpTOHAD66dRmx7EAvkJ8RAOflfospnxO3hBaQ5G26...</td>\n",
              "      <td>Rui Moreira</td>\n",
              "      <td>https://play-lh.googleusercontent.com/a/AATXAJ...</td>\n",
              "      <td>Não funciona. Diz que a ligação à internet não...</td>\n",
              "      <td>1</td>\n",
              "      <td>1</td>\n",
              "      <td>4.4.8</td>\n",
              "      <td>2022-05-28 17:03:29</td>\n",
              "      <td>None</td>\n",
              "      <td>NaT</td>\n",
              "      <td>most_relevant</td>\n",
              "      <td>com.bk.pt</td>\n",
              "    </tr>\n",
              "  </tbody>\n",
              "</table>\n",
              "</div>"
            ],
            "text/plain": [
              "                                            reviewId            userName  \\\n",
              "0  gp:AOqpTOH4R6ibJGyIgalQ8TmRepFkD5Uc7VEmSlzIqgK...        Vitor Ferraz   \n",
              "1  gp:AOqpTOF9leM2mcXtbajknpJf-pNJLM7_wbGUOHJ1q2w...    Eduardo Oliveira   \n",
              "2  gp:AOqpTOFW2-55_1RbTThklXm3uewFd8OT9Cu2r1xKGRP...  Diogo Mendes DM116   \n",
              "3  gp:AOqpTOGRf4dy38flRss1lhoggSy6qTaSHaHK2wOhz_R...       Ricardo Lemos   \n",
              "4  gp:AOqpTOHAD66dRmx7EAvkJ8RAOflfospnxO3hBaQ5G26...         Rui Moreira   \n",
              "\n",
              "                                           userImage  \\\n",
              "0  https://play-lh.googleusercontent.com/a-/AOh14...   \n",
              "1  https://play-lh.googleusercontent.com/a/AATXAJ...   \n",
              "2  https://play-lh.googleusercontent.com/a-/AOh14...   \n",
              "3  https://play-lh.googleusercontent.com/a/AATXAJ...   \n",
              "4  https://play-lh.googleusercontent.com/a/AATXAJ...   \n",
              "\n",
              "                                             content  score  thumbsUpCount  \\\n",
              "0  Após bastante tempo passado decidi voltar a pe...      1             33   \n",
              "1  Esta aplicação é uma miseria. De todas as veze...      1             28   \n",
              "2  Ja teve 5estrelas. Agora esta mesmo fraca.daqu...      1              1   \n",
              "3  O burguer King mais proximo de minha casa fica...      1             24   \n",
              "4  Não funciona. Diz que a ligação à internet não...      1              1   \n",
              "\n",
              "  reviewCreatedVersion                  at  \\\n",
              "0                4.4.7 2022-05-06 13:21:44   \n",
              "1                4.4.4 2022-04-03 21:50:26   \n",
              "2                4.4.9 2022-06-06 12:31:04   \n",
              "3                4.4.5 2022-04-07 15:50:14   \n",
              "4                4.4.8 2022-05-28 17:03:29   \n",
              "\n",
              "                                        replyContent           repliedAt  \\\n",
              "0  Lamentamos o incidente. Iremos reportá-lo e co... 2019-10-10 15:20:20   \n",
              "1                                               None                 NaT   \n",
              "2                                               None                 NaT   \n",
              "3                                               None                 NaT   \n",
              "4                                               None                 NaT   \n",
              "\n",
              "       sortOrder      appId  \n",
              "0  most_relevant  com.bk.pt  \n",
              "1  most_relevant  com.bk.pt  \n",
              "2  most_relevant  com.bk.pt  \n",
              "3  most_relevant  com.bk.pt  \n",
              "4  most_relevant  com.bk.pt  "
            ]
          },
          "execution_count": 7,
          "metadata": {},
          "output_type": "execute_result"
        }
      ],
      "source": [
        "app_reviews_df = pd.DataFrame(app_reviews)\n",
        "app_reviews_df.head()"
      ]
    },
    {
      "cell_type": "code",
      "execution_count": 8,
      "metadata": {
        "id": "gGPeriPyyZ7M"
      },
      "outputs": [],
      "source": [
        "app_reviews_df.to_csv('reviews.csv', index=None, header=True)"
      ]
    }
  ],
  "metadata": {
    "colab": {
      "collapsed_sections": [],
      "name": "Sentiment_Analysis - Getting Data.ipynb",
      "provenance": []
    },
    "interpreter": {
      "hash": "40c59fb2f4cf58f249794d2f99559cfb394e5352dfd0e55831c94a8905411044"
    },
    "kernelspec": {
      "display_name": "Python 3.10.4 64-bit",
      "language": "python",
      "name": "python3"
    },
    "language_info": {
      "codemirror_mode": {
        "name": "ipython",
        "version": 3
      },
      "file_extension": ".py",
      "mimetype": "text/x-python",
      "name": "python",
      "nbconvert_exporter": "python",
      "pygments_lexer": "ipython3",
      "version": "3.10.4"
    }
  },
  "nbformat": 4,
  "nbformat_minor": 0
}
