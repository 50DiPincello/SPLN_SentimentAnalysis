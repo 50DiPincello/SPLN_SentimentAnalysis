{
  "cells": [
    {
      "cell_type": "markdown",
      "metadata": {},
      "source": [
        "### Sentiment Analysis - Part 1"
      ]
    },
    {
      "cell_type": "markdown",
      "metadata": {},
      "source": [
        "Instalar o Google Play Scraper e importar os pacotes necessários"
      ]
    },
    {
      "cell_type": "code",
      "execution_count": 1,
      "metadata": {
        "colab": {
          "base_uri": "https://localhost:8080/"
        },
        "id": "GDiAjnyycIP3",
        "outputId": "71d85fcb-66c4-4598-c728-002425524739"
      },
      "outputs": [
        {
          "name": "stdout",
          "output_type": "stream",
          "text": [
            "Collecting google_play_scraper\n",
            "  Using cached google_play_scraper-1.1.0-py3-none-any.whl\n",
            "Installing collected packages: google-play-scraper\n",
            "Successfully installed google-play-scraper-1.1.0\n"
          ]
        }
      ],
      "source": [
        "#Install Google play scraper: https://github.com/JoMingyu/google-play-scraper\n",
        "!pip install google_play_scraper"
      ]
    },
    {
      "cell_type": "code",
      "execution_count": 2,
      "metadata": {
        "id": "gxcCFFUVcd7B"
      },
      "outputs": [],
      "source": [
        "import json\n",
        "import pandas as pd\n",
        "from tqdm import tqdm\n",
        "\n",
        "import seaborn as sns\n",
        "import matplotlib.pyplot as plt\n",
        "\n",
        "from pygments import highlight\n",
        "from pygments.lexers import JsonLexer\n",
        "from pygments.formatters import TerminalFormatter\n",
        "\n",
        "from google_play_scraper import Sort, reviews, app\n",
        "\n",
        "%matplotlib inline\n",
        "%config InlineBackend.figure_format='retina'\n",
        "\n",
        "sns.set(style='whitegrid', palette='muted', font_scale=1.2)"
      ]
    },
    {
      "cell_type": "markdown",
      "metadata": {
        "id": "PrWYrbz-dB_s"
      },
      "source": [
        "#### Top 10 Food and Drinks Apps in Portugal\n",
        "\n",
        "1. Burger King - Portugal ⇒ com.bk.pt\n",
        "\n",
        "2. Uber Eats: Entrega de comida ⇒ com.ubercab.eats\n",
        "\n",
        "3. McDonald's ⇒ com.mcdonalds.mobileapp\n",
        "\n",
        "4. Too Good To Go ⇒ com.app.tgtg\n",
        "\n",
        "5. TheFork - Restaurantes ⇒ com.lafourchette.lafourchette\n",
        "\n",
        "6. Bolt Food ⇒ com.bolt.deliveryclient\n",
        "\n",
        "7. Zomato Portugal ⇒ com.outdarelab.zomato\n",
        "\n",
        "8. Moulinex, receitas e mais... ⇒ com.groupeseb.moulinex.food\n",
        "\n",
        "9. H3 ⇒ pt.yunit.mobile.android.h3\n",
        "\n",
        "10. Telepizza Refeições ao Domicílio ⇒ com.telepizza\n",
        "\n",
        "Source: https://www.mobileaction.co/"
      ]
    },
    {
      "cell_type": "markdown",
      "metadata": {},
      "source": [
        "Definir os IDs dos apps a serem analisados e extrair informações básicas sobre cada um deles."
      ]
    },
    {
      "cell_type": "code",
      "execution_count": 3,
      "metadata": {
        "id": "LvNZCWDodDBx"
      },
      "outputs": [],
      "source": [
        "apps_ids = ['com.bk.pt', 'com.ubercab.eats',\n",
        "\n",
        "'com.mcdonalds.mobileapp', 'com.app.tgtg',\n",
        "\n",
        "'com.lafourchette.lafourchette',\n",
        "\n",
        "'com.bolt.deliveryclient', 'com.outdarelab.zomato',\n",
        "\n",
        "'com.groupeseb.moulinex.food', 'pt.yunit.mobile.android.h3',\n",
        "\n",
        "'com.telepizza']"
      ]
    },
    {
      "cell_type": "markdown",
      "metadata": {
        "id": "UgtTJU5yxA6w"
      },
      "source": [
        "Scraping data para cada app"
      ]
    },
    {
      "cell_type": "code",
      "execution_count": 4,
      "metadata": {
        "colab": {
          "base_uri": "https://localhost:8080/"
        },
        "id": "iotg8OF2xBhj",
        "outputId": "47acc10e-e379-4572-9018-a65296dab872"
      },
      "outputs": [
        {
          "name": "stderr",
          "output_type": "stream",
          "text": [
            "100%|██████████| 10/10 [00:09<00:00,  1.01it/s]\n"
          ]
        }
      ],
      "source": [
        "app_infos = []\n",
        "\n",
        "for ap in tqdm(apps_ids):\n",
        "    info = app(ap, lang='en', country='us')\n",
        "    del info['comments']\n",
        "    app_infos.append(info)"
      ]
    },
    {
      "cell_type": "code",
      "execution_count": 5,
      "metadata": {
        "colab": {
          "base_uri": "https://localhost:8080/",
          "height": 699
        },
        "id": "GWv9CbvHxKAj",
        "outputId": "7efc3111-2e1e-4b41-ce44-6ab508571857"
      },
      "outputs": [
        {
          "data": {
            "text/html": [
              "<div>\n",
              "<style scoped>\n",
              "    .dataframe tbody tr th:only-of-type {\n",
              "        vertical-align: middle;\n",
              "    }\n",
              "\n",
              "    .dataframe tbody tr th {\n",
              "        vertical-align: top;\n",
              "    }\n",
              "\n",
              "    .dataframe thead th {\n",
              "        text-align: right;\n",
              "    }\n",
              "</style>\n",
              "<table border=\"1\" class=\"dataframe\">\n",
              "  <thead>\n",
              "    <tr style=\"text-align: right;\">\n",
              "      <th></th>\n",
              "      <th>title</th>\n",
              "      <th>description</th>\n",
              "      <th>descriptionHTML</th>\n",
              "      <th>summary</th>\n",
              "      <th>installs</th>\n",
              "      <th>minInstalls</th>\n",
              "      <th>score</th>\n",
              "      <th>ratings</th>\n",
              "      <th>reviews</th>\n",
              "      <th>histogram</th>\n",
              "      <th>...</th>\n",
              "      <th>contentRatingDescription</th>\n",
              "      <th>adSupported</th>\n",
              "      <th>containsAds</th>\n",
              "      <th>released</th>\n",
              "      <th>updated</th>\n",
              "      <th>version</th>\n",
              "      <th>recentChanges</th>\n",
              "      <th>recentChangesHTML</th>\n",
              "      <th>appId</th>\n",
              "      <th>url</th>\n",
              "    </tr>\n",
              "  </thead>\n",
              "  <tbody>\n",
              "    <tr>\n",
              "      <th>0</th>\n",
              "      <td>Burger King - Portugal</td>\n",
              "      <td>Join the exclusive savings with the official B...</td>\n",
              "      <td>Join the exclusive savings with the official B...</td>\n",
              "      <td>Coupons for in-store use only</td>\n",
              "      <td>500,000+</td>\n",
              "      <td>500000</td>\n",
              "      <td>0.000000</td>\n",
              "      <td>0</td>\n",
              "      <td>0</td>\n",
              "      <td>[0, 0, 0, 0, 0]</td>\n",
              "      <td>...</td>\n",
              "      <td>None</td>\n",
              "      <td>False</td>\n",
              "      <td>False</td>\n",
              "      <td>Mar 20, 2018</td>\n",
              "      <td>1654869205</td>\n",
              "      <td>4.5.0</td>\n",
              "      <td>We have news! Update the APP and you will be a...</td>\n",
              "      <td>We have news! Update the APP and you will be a...</td>\n",
              "      <td>com.bk.pt</td>\n",
              "      <td>https://play.google.com/store/apps/details?id=...</td>\n",
              "    </tr>\n",
              "    <tr>\n",
              "      <th>1</th>\n",
              "      <td>Uber Eats: Food Delivery</td>\n",
              "      <td>Get food delivery to your doorstep from thousa...</td>\n",
              "      <td>Get food delivery to your doorstep from thousa...</td>\n",
              "      <td>Food &amp; Grocery Delivery App. Order Pizza, Sush...</td>\n",
              "      <td>100,000,000+</td>\n",
              "      <td>100000000</td>\n",
              "      <td>4.445340</td>\n",
              "      <td>4622030</td>\n",
              "      <td>257264</td>\n",
              "      <td>[381795, 56572, 139487, 587750, 3456411]</td>\n",
              "      <td>...</td>\n",
              "      <td>None</td>\n",
              "      <td>True</td>\n",
              "      <td>True</td>\n",
              "      <td>Feb 29, 2016</td>\n",
              "      <td>1655134904</td>\n",
              "      <td>6.116.10002</td>\n",
              "      <td>We update the Uber Eats app as often as possib...</td>\n",
              "      <td>We update the Uber Eats app as often as possib...</td>\n",
              "      <td>com.ubercab.eats</td>\n",
              "      <td>https://play.google.com/store/apps/details?id=...</td>\n",
              "    </tr>\n",
              "    <tr>\n",
              "      <th>2</th>\n",
              "      <td>McDonald's</td>\n",
              "      <td>Download the McDonald's™ App for unique offers...</td>\n",
              "      <td>Download the McDonald&amp;#39;s™ App for unique of...</td>\n",
              "      <td>Download the McDonald’s App to have all the of...</td>\n",
              "      <td>50,000,000+</td>\n",
              "      <td>50000000</td>\n",
              "      <td>3.654930</td>\n",
              "      <td>471378</td>\n",
              "      <td>1611</td>\n",
              "      <td>[128305, 15427, 20977, 32076, 274369]</td>\n",
              "      <td>...</td>\n",
              "      <td>None</td>\n",
              "      <td>True</td>\n",
              "      <td>True</td>\n",
              "      <td>Feb 26, 2018</td>\n",
              "      <td>1654678119</td>\n",
              "      <td>2.43.0</td>\n",
              "      <td>None</td>\n",
              "      <td>None</td>\n",
              "      <td>com.mcdonalds.mobileapp</td>\n",
              "      <td>https://play.google.com/store/apps/details?id=...</td>\n",
              "    </tr>\n",
              "    <tr>\n",
              "      <th>3</th>\n",
              "      <td>Too Good To Go: End Food Waste</td>\n",
              "      <td>Join millions of food waste warriors by downlo...</td>\n",
              "      <td>Join millions of food waste warriors by downlo...</td>\n",
              "      <td>Eat delicious food for next to nothing and fig...</td>\n",
              "      <td>10,000,000+</td>\n",
              "      <td>10000000</td>\n",
              "      <td>4.786268</td>\n",
              "      <td>879305</td>\n",
              "      <td>1729</td>\n",
              "      <td>[28220, 2919, 12650, 40870, 794546]</td>\n",
              "      <td>...</td>\n",
              "      <td>None</td>\n",
              "      <td>False</td>\n",
              "      <td>False</td>\n",
              "      <td>Jan 14, 2016</td>\n",
              "      <td>1655224910</td>\n",
              "      <td>22.5.10</td>\n",
              "      <td>Thanks for helping fight food waste with us! T...</td>\n",
              "      <td>Thanks for helping fight food waste with us! T...</td>\n",
              "      <td>com.app.tgtg</td>\n",
              "      <td>https://play.google.com/store/apps/details?id=...</td>\n",
              "    </tr>\n",
              "    <tr>\n",
              "      <th>4</th>\n",
              "      <td>TheFork - Restaurant bookings</td>\n",
              "      <td>&lt;b&gt;10€ discount on your next meal!&lt;/b&gt;\\r\\nMake...</td>\n",
              "      <td>&lt;b&gt;10€ discount on your next meal!&lt;/b&gt;&lt;br&gt;Make...</td>\n",
              "      <td>Download TheFork to book your next table with ...</td>\n",
              "      <td>10,000,000+</td>\n",
              "      <td>10000000</td>\n",
              "      <td>4.873874</td>\n",
              "      <td>213400</td>\n",
              "      <td>208</td>\n",
              "      <td>[0, 0, 3702, 19098, 190208]</td>\n",
              "      <td>...</td>\n",
              "      <td>None</td>\n",
              "      <td>False</td>\n",
              "      <td>False</td>\n",
              "      <td>Nov 3, 2011</td>\n",
              "      <td>1655134882</td>\n",
              "      <td>20.15.0</td>\n",
              "      <td>We constantly update TheFork app to provide yo...</td>\n",
              "      <td>We constantly update TheFork app to provide yo...</td>\n",
              "      <td>com.lafourchette.lafourchette</td>\n",
              "      <td>https://play.google.com/store/apps/details?id=...</td>\n",
              "    </tr>\n",
              "  </tbody>\n",
              "</table>\n",
              "<p>5 rows × 43 columns</p>\n",
              "</div>"
            ],
            "text/plain": [
              "                            title  \\\n",
              "0          Burger King - Portugal   \n",
              "1        Uber Eats: Food Delivery   \n",
              "2                      McDonald's   \n",
              "3  Too Good To Go: End Food Waste   \n",
              "4   TheFork - Restaurant bookings   \n",
              "\n",
              "                                         description  \\\n",
              "0  Join the exclusive savings with the official B...   \n",
              "1  Get food delivery to your doorstep from thousa...   \n",
              "2  Download the McDonald's™ App for unique offers...   \n",
              "3  Join millions of food waste warriors by downlo...   \n",
              "4  <b>10€ discount on your next meal!</b>\\r\\nMake...   \n",
              "\n",
              "                                     descriptionHTML  \\\n",
              "0  Join the exclusive savings with the official B...   \n",
              "1  Get food delivery to your doorstep from thousa...   \n",
              "2  Download the McDonald&#39;s™ App for unique of...   \n",
              "3  Join millions of food waste warriors by downlo...   \n",
              "4  <b>10€ discount on your next meal!</b><br>Make...   \n",
              "\n",
              "                                             summary      installs  \\\n",
              "0                      Coupons for in-store use only      500,000+   \n",
              "1  Food & Grocery Delivery App. Order Pizza, Sush...  100,000,000+   \n",
              "2  Download the McDonald’s App to have all the of...   50,000,000+   \n",
              "3  Eat delicious food for next to nothing and fig...   10,000,000+   \n",
              "4  Download TheFork to book your next table with ...   10,000,000+   \n",
              "\n",
              "   minInstalls     score  ratings  reviews  \\\n",
              "0       500000  0.000000        0        0   \n",
              "1    100000000  4.445340  4622030   257264   \n",
              "2     50000000  3.654930   471378     1611   \n",
              "3     10000000  4.786268   879305     1729   \n",
              "4     10000000  4.873874   213400      208   \n",
              "\n",
              "                                  histogram  ...  contentRatingDescription  \\\n",
              "0                           [0, 0, 0, 0, 0]  ...                      None   \n",
              "1  [381795, 56572, 139487, 587750, 3456411]  ...                      None   \n",
              "2     [128305, 15427, 20977, 32076, 274369]  ...                      None   \n",
              "3       [28220, 2919, 12650, 40870, 794546]  ...                      None   \n",
              "4               [0, 0, 3702, 19098, 190208]  ...                      None   \n",
              "\n",
              "   adSupported containsAds      released     updated      version  \\\n",
              "0        False       False  Mar 20, 2018  1654869205        4.5.0   \n",
              "1         True        True  Feb 29, 2016  1655134904  6.116.10002   \n",
              "2         True        True  Feb 26, 2018  1654678119       2.43.0   \n",
              "3        False       False  Jan 14, 2016  1655224910      22.5.10   \n",
              "4        False       False   Nov 3, 2011  1655134882      20.15.0   \n",
              "\n",
              "                                       recentChanges  \\\n",
              "0  We have news! Update the APP and you will be a...   \n",
              "1  We update the Uber Eats app as often as possib...   \n",
              "2                                               None   \n",
              "3  Thanks for helping fight food waste with us! T...   \n",
              "4  We constantly update TheFork app to provide yo...   \n",
              "\n",
              "                                   recentChangesHTML  \\\n",
              "0  We have news! Update the APP and you will be a...   \n",
              "1  We update the Uber Eats app as often as possib...   \n",
              "2                                               None   \n",
              "3  Thanks for helping fight food waste with us! T...   \n",
              "4  We constantly update TheFork app to provide yo...   \n",
              "\n",
              "                           appId  \\\n",
              "0                      com.bk.pt   \n",
              "1               com.ubercab.eats   \n",
              "2        com.mcdonalds.mobileapp   \n",
              "3                   com.app.tgtg   \n",
              "4  com.lafourchette.lafourchette   \n",
              "\n",
              "                                                 url  \n",
              "0  https://play.google.com/store/apps/details?id=...  \n",
              "1  https://play.google.com/store/apps/details?id=...  \n",
              "2  https://play.google.com/store/apps/details?id=...  \n",
              "3  https://play.google.com/store/apps/details?id=...  \n",
              "4  https://play.google.com/store/apps/details?id=...  \n",
              "\n",
              "[5 rows x 43 columns]"
            ]
          },
          "execution_count": 5,
          "metadata": {},
          "output_type": "execute_result"
        }
      ],
      "source": [
        "app_infos_df = pd.DataFrame(app_infos)\n",
        "app_infos_df.head()"
      ]
    },
    {
      "cell_type": "markdown",
      "metadata": {
        "id": "FYSg2O9Px65q"
      },
      "source": [
        "#### Avaliações do Scraping App\n",
        "\n",
        "Recolher as avaliações dos utilizadores para cada uma das aplicações. Como os textos serão divididos em três classes possíveis (positivo, negativo ou neutro) e o objetivo é obter um dataset o mais balanceado possível, selecionou-se 400 amostras de avaliações com score 3 e 200 de cada uma das outras.\n",
        "\n",
        "Nós queremos:\n",
        "* Dataset balanceado - aproximadamente o mesmo número de avaliações para cada pontuação (1-5)\n",
        "* Amostra representativa das avaliações de cada aplicação\n",
        "\n",
        "Podemos satisfazer o primeiro requisito usando a opção do pacote de scraping para filtrar a pontuação da revisão. Para o segundo, classificaremos os comentários por sua utilidade, que são os comentários que o Google Play considera mais importantes."
      ]
    },
    {
      "cell_type": "code",
      "execution_count": 6,
      "metadata": {
        "colab": {
          "base_uri": "https://localhost:8080/"
        },
        "id": "-VPXtqQQx7eS",
        "outputId": "37194ef4-2377-4b7b-dbef-bef068ead0d3"
      },
      "outputs": [
        {
          "name": "stderr",
          "output_type": "stream",
          "text": [
            "100%|██████████| 10/10 [00:41<00:00,  4.17s/it]\n"
          ]
        }
      ],
      "source": [
        "app_reviews = []\n",
        "\n",
        "for ap in tqdm(apps_ids):\n",
        "    for score in list(range(1, 6)):\n",
        "        for sort_order in [Sort.MOST_RELEVANT, Sort.NEWEST]:\n",
        "            rvs, _ = reviews(\n",
        "                ap,\n",
        "                lang='pt',\n",
        "                country='br',\n",
        "                sort=sort_order,\n",
        "                count= 200 if score == 3 else 100,\n",
        "                filter_score_with=score\n",
        "            )\n",
        "            for r in rvs:\n",
        "                r['sortOrder'] = 'most_relevant' if sort_order == Sort.MOST_RELEVANT else 'newest'\n",
        "                r['appId'] = ap\n",
        "            app_reviews.extend(rvs)"
      ]
    },
    {
      "cell_type": "code",
      "execution_count": 7,
      "metadata": {
        "colab": {
          "base_uri": "https://localhost:8080/"
        },
        "id": "xvxgSV00yH2z",
        "outputId": "3b40b81a-ead4-4c26-d6e1-b1d91b588e55"
      },
      "outputs": [
        {
          "data": {
            "text/plain": [
              "7126"
            ]
          },
          "execution_count": 7,
          "metadata": {},
          "output_type": "execute_result"
        }
      ],
      "source": [
        "len(app_reviews)"
      ]
    },
    {
      "cell_type": "markdown",
      "metadata": {},
      "source": [
        "Guardar as avaliações num ficheiro CSV"
      ]
    },
    {
      "cell_type": "code",
      "execution_count": 8,
      "metadata": {
        "colab": {
          "base_uri": "https://localhost:8080/",
          "height": 669
        },
        "id": "2R_9qN-ayQ34",
        "outputId": "aaecda61-7716-4092-8f64-f1320cb7c2dc"
      },
      "outputs": [
        {
          "data": {
            "text/html": [
              "<div>\n",
              "<style scoped>\n",
              "    .dataframe tbody tr th:only-of-type {\n",
              "        vertical-align: middle;\n",
              "    }\n",
              "\n",
              "    .dataframe tbody tr th {\n",
              "        vertical-align: top;\n",
              "    }\n",
              "\n",
              "    .dataframe thead th {\n",
              "        text-align: right;\n",
              "    }\n",
              "</style>\n",
              "<table border=\"1\" class=\"dataframe\">\n",
              "  <thead>\n",
              "    <tr style=\"text-align: right;\">\n",
              "      <th></th>\n",
              "      <th>reviewId</th>\n",
              "      <th>userName</th>\n",
              "      <th>userImage</th>\n",
              "      <th>content</th>\n",
              "      <th>score</th>\n",
              "      <th>thumbsUpCount</th>\n",
              "      <th>reviewCreatedVersion</th>\n",
              "      <th>at</th>\n",
              "      <th>replyContent</th>\n",
              "      <th>repliedAt</th>\n",
              "      <th>sortOrder</th>\n",
              "      <th>appId</th>\n",
              "    </tr>\n",
              "  </thead>\n",
              "  <tbody>\n",
              "    <tr>\n",
              "      <th>0</th>\n",
              "      <td>6e4e5f91-94d4-4af7-a2c5-b859aa762f54</td>\n",
              "      <td>Carlos V. Gonzalez</td>\n",
              "      <td>https://play-lh.googleusercontent.com/a-/AOh14...</td>\n",
              "      <td>BurgerKing Portugal deixa muito a desejar, não...</td>\n",
              "      <td>1</td>\n",
              "      <td>4</td>\n",
              "      <td>4.4.9</td>\n",
              "      <td>2022-06-09 13:24:17</td>\n",
              "      <td>None</td>\n",
              "      <td>NaT</td>\n",
              "      <td>most_relevant</td>\n",
              "      <td>com.bk.pt</td>\n",
              "    </tr>\n",
              "    <tr>\n",
              "      <th>1</th>\n",
              "      <td>b407ee48-f772-4d1c-abad-dda15e47571f</td>\n",
              "      <td>Vitor Ferraz</td>\n",
              "      <td>https://play-lh.googleusercontent.com/a-/AOh14...</td>\n",
              "      <td>Após bastante tempo passado decidi voltar a pe...</td>\n",
              "      <td>1</td>\n",
              "      <td>40</td>\n",
              "      <td>4.4.7</td>\n",
              "      <td>2022-05-06 13:21:44</td>\n",
              "      <td>Lamentamos o incidente. Iremos reportá-lo e co...</td>\n",
              "      <td>2019-10-10 15:20:20</td>\n",
              "      <td>most_relevant</td>\n",
              "      <td>com.bk.pt</td>\n",
              "    </tr>\n",
              "    <tr>\n",
              "      <th>2</th>\n",
              "      <td>397d3395-94ac-45a3-a03a-e5acd5320a30</td>\n",
              "      <td>Diogo Mendes DM116</td>\n",
              "      <td>https://play-lh.googleusercontent.com/a-/AOh14...</td>\n",
              "      <td>Ja teve 5estrelas. Agora esta mesmo fraca.daqu...</td>\n",
              "      <td>1</td>\n",
              "      <td>1</td>\n",
              "      <td>4.4.9</td>\n",
              "      <td>2022-06-06 12:31:04</td>\n",
              "      <td>None</td>\n",
              "      <td>NaT</td>\n",
              "      <td>most_relevant</td>\n",
              "      <td>com.bk.pt</td>\n",
              "    </tr>\n",
              "    <tr>\n",
              "      <th>3</th>\n",
              "      <td>fede826c-bd11-4c4b-8046-fb309469886e</td>\n",
              "      <td>Ricardo Lemos</td>\n",
              "      <td>https://play-lh.googleusercontent.com/a/AATXAJ...</td>\n",
              "      <td>O burguer King mais proximo de minha casa fica...</td>\n",
              "      <td>1</td>\n",
              "      <td>24</td>\n",
              "      <td>4.4.5</td>\n",
              "      <td>2022-04-07 15:50:14</td>\n",
              "      <td>None</td>\n",
              "      <td>NaT</td>\n",
              "      <td>most_relevant</td>\n",
              "      <td>com.bk.pt</td>\n",
              "    </tr>\n",
              "    <tr>\n",
              "      <th>4</th>\n",
              "      <td>e7d38cc6-ff0f-4394-8f16-da16a563f271</td>\n",
              "      <td>Rui Moreira</td>\n",
              "      <td>https://play-lh.googleusercontent.com/a/AATXAJ...</td>\n",
              "      <td>Não funciona. Diz que a ligação à internet não...</td>\n",
              "      <td>1</td>\n",
              "      <td>2</td>\n",
              "      <td>4.4.8</td>\n",
              "      <td>2022-05-28 17:03:29</td>\n",
              "      <td>None</td>\n",
              "      <td>NaT</td>\n",
              "      <td>most_relevant</td>\n",
              "      <td>com.bk.pt</td>\n",
              "    </tr>\n",
              "  </tbody>\n",
              "</table>\n",
              "</div>"
            ],
            "text/plain": [
              "                               reviewId            userName  \\\n",
              "0  6e4e5f91-94d4-4af7-a2c5-b859aa762f54  Carlos V. Gonzalez   \n",
              "1  b407ee48-f772-4d1c-abad-dda15e47571f        Vitor Ferraz   \n",
              "2  397d3395-94ac-45a3-a03a-e5acd5320a30  Diogo Mendes DM116   \n",
              "3  fede826c-bd11-4c4b-8046-fb309469886e       Ricardo Lemos   \n",
              "4  e7d38cc6-ff0f-4394-8f16-da16a563f271         Rui Moreira   \n",
              "\n",
              "                                           userImage  \\\n",
              "0  https://play-lh.googleusercontent.com/a-/AOh14...   \n",
              "1  https://play-lh.googleusercontent.com/a-/AOh14...   \n",
              "2  https://play-lh.googleusercontent.com/a-/AOh14...   \n",
              "3  https://play-lh.googleusercontent.com/a/AATXAJ...   \n",
              "4  https://play-lh.googleusercontent.com/a/AATXAJ...   \n",
              "\n",
              "                                             content  score  thumbsUpCount  \\\n",
              "0  BurgerKing Portugal deixa muito a desejar, não...      1              4   \n",
              "1  Após bastante tempo passado decidi voltar a pe...      1             40   \n",
              "2  Ja teve 5estrelas. Agora esta mesmo fraca.daqu...      1              1   \n",
              "3  O burguer King mais proximo de minha casa fica...      1             24   \n",
              "4  Não funciona. Diz que a ligação à internet não...      1              2   \n",
              "\n",
              "  reviewCreatedVersion                  at  \\\n",
              "0                4.4.9 2022-06-09 13:24:17   \n",
              "1                4.4.7 2022-05-06 13:21:44   \n",
              "2                4.4.9 2022-06-06 12:31:04   \n",
              "3                4.4.5 2022-04-07 15:50:14   \n",
              "4                4.4.8 2022-05-28 17:03:29   \n",
              "\n",
              "                                        replyContent           repliedAt  \\\n",
              "0                                               None                 NaT   \n",
              "1  Lamentamos o incidente. Iremos reportá-lo e co... 2019-10-10 15:20:20   \n",
              "2                                               None                 NaT   \n",
              "3                                               None                 NaT   \n",
              "4                                               None                 NaT   \n",
              "\n",
              "       sortOrder      appId  \n",
              "0  most_relevant  com.bk.pt  \n",
              "1  most_relevant  com.bk.pt  \n",
              "2  most_relevant  com.bk.pt  \n",
              "3  most_relevant  com.bk.pt  \n",
              "4  most_relevant  com.bk.pt  "
            ]
          },
          "execution_count": 8,
          "metadata": {},
          "output_type": "execute_result"
        }
      ],
      "source": [
        "app_reviews_df = pd.DataFrame(app_reviews)\n",
        "app_reviews_df.head()"
      ]
    },
    {
      "cell_type": "code",
      "execution_count": 9,
      "metadata": {
        "id": "gGPeriPyyZ7M"
      },
      "outputs": [],
      "source": [
        "app_reviews_df.to_csv('reviews.csv', index=None, header=True)"
      ]
    }
  ],
  "metadata": {
    "colab": {
      "collapsed_sections": [],
      "name": "Sentiment_Analysis - Getting Data.ipynb",
      "provenance": []
    },
    "interpreter": {
      "hash": "807207b705c3e92a0e42b21ea529f6b95965df019baf7d40f7ec05972a0c4be2"
    },
    "kernelspec": {
      "display_name": "Python 3.10.4 ('spln')",
      "language": "python",
      "name": "python3"
    },
    "language_info": {
      "codemirror_mode": {
        "name": "ipython",
        "version": 3
      },
      "file_extension": ".py",
      "mimetype": "text/x-python",
      "name": "python",
      "nbconvert_exporter": "python",
      "pygments_lexer": "ipython3",
      "version": "3.10.4"
    }
  },
  "nbformat": 4,
  "nbformat_minor": 0
}
